{
 "cells": [
  {
   "cell_type": "markdown",
   "metadata": {},
   "source": [
    "0. [Preface](Introduction.ipynb)"
   ]
  },
  {
   "cell_type": "markdown",
   "metadata": {},
   "source": [
    "1. [Data Ingestion – Tabular Formats](Data_Ingestion-Tabular.ipynb)\n",
    "   1. Tidying Up\n",
    "   1. CSV\n",
    "      * Sanity Checks\n",
    "      * The Good, The Bad, and The Textual Data\n",
    "   1. Spreadsheets Considered Harmful\n",
    "   1. SQL RDBMS\n",
    "      * Massaging Data Types\n",
    "      * Repeating in R\n",
    "      * Where SQL Goes Wrong (And How to Notice It)\n",
    "   1. Other formats\n",
    "      * HDF5 and NetCDF-4\n",
    "      * SQLite\n",
    "      * Apache Parquet\n",
    "   1. Data Frames\n",
    "      * Spark/Scala\n",
    "      * Panda and Derived Wrappers\n",
    "      * Vaex\n",
    "      * Data Frames in R (Tidyverse)\n",
    "      * Data Frames in R (data.table)\n",
    "      * Bash for Fun\n",
    "   1. Exercises\n",
    "      * Tidy Data from Excel\n",
    "      * Tidy Data from SQL\n",
    "   1. Denouement"
   ]
  },
  {
   "cell_type": "markdown",
   "metadata": {},
   "source": [
    "2. [Data Ingestion – Hierarchical Formats](Data_Ingestion-Hierarchical.ipynb)\n",
    "   1. JSON\n",
    "   1. XML\n",
    "   1. YAML and Config Files\n",
    "   1. NoSQL Databases\n",
    "   1. Denouement"
   ]
  },
  {
   "cell_type": "markdown",
   "metadata": {},
   "source": [
    "3. [Data Ingestion – Other Data Sources](Data_Ingestion-Other.ipynb)\n",
    "   1. Web Scraping\n",
    "      * HTML Tables\n",
    "      * Non-Tabular Data\n",
    "      * Command-Line Scraping\n",
    "   1. Portable Document Format\n",
    "   1. Image Formats\n",
    "   1. Binary Serialized Data Structures\n",
    "   1. Custom Text Formats\n",
    "      * A Structured Log\n",
    "      * Character Encodings\n",
    "   1. Exercises\n",
    "      * Enhancing the NPY Parser\n",
    "      * Scaping Web Traffic\n",
    "   1. Denouement"
   ]
  },
  {
   "cell_type": "markdown",
   "metadata": {},
   "source": [
    "4. [Anomaly Detection](Anomaly_Detection.ipynb)\n",
    "   1. Missing data\n",
    "      * SQL\n",
    "      * Hierarchical Formats\n",
    "      * Sentinels\n",
    "   1. Miscoded Data\n",
    "   1. Fixed Bounds\n",
    "   1. Outliers\n",
    "      * Z-Score\n",
    "      * Interquartile Range\n",
    "   1. Multivariate Outliers\n",
    "   1. Exercises\n",
    "      * A Famous Experiment\n",
    "      * Misspelled Words\n",
    "   1. Denouement   "
   ]
  },
  {
   "cell_type": "markdown",
   "metadata": {},
   "source": [
    "5. [Data Quality](Data_Quality.ipynb)\n",
    "   1. Missing data\n",
    "   1. Biasing trends\n",
    "      * Understanding Bias\n",
    "      * Internally Detectable\n",
    "      * Comparison to Baselines\n",
    "   1. Class imbalance\n",
    "   1. Normalization and scaling\n",
    "      * Applying a Machine Learning Model\n",
    "      * Scaling Techniques\n",
    "      * Overweighting\n",
    "   1. Cyclicity and autocorrelation\n",
    "      * Domain Knowledge Cycles\n",
    "      * Discovered Cycles\n",
    "   1. Bespoke Validation\n",
    "      * Collation Validation\n",
    "      * Transcription Validation\n",
    "   1. Exercises\n",
    "      * Data Characterization\n",
    "      * Oversampled Polls\n",
    "   1. Denouement"
   ]
  },
  {
   "cell_type": "markdown",
   "metadata": {},
   "source": [
    "6. [Value Imputation](Value_Imputation.ipynb)\n",
    "   1. Typical-Value Imputation\n",
    "      * Typical Tabular Data\n",
    "      * Locality Imputation\n",
    "   1. Trend Imputation\n",
    "      * Types of Trends\n",
    "      * A Larger Coarse Time Series\n",
    "      * Non-Temporal Trends\n",
    "   1. Sampling\n",
    "      * Undersampling\n",
    "      * Oversampling\n",
    "   1. Exercises\n",
    "      * Alternate Trend Imputation\n",
    "      * Balancing Multiple Features\n",
    "   1. Denouement\n"
   ]
  },
  {
   "cell_type": "markdown",
   "metadata": {},
   "source": [
    "7. [Feature Engineering](Feature_Engineering.ipynb)\n",
    "   1. Date/time fields\n",
    "      * Creating Datetimes\n",
    "      * Imposing Regularity\n",
    "      * Duplicated Timestamps\n",
    "   1. String fields\n",
    "      * Fuzzy Matching\n",
    "      * Explicit Categories\n",
    "      * Field Splitting\n",
    "      * String Vectors\n",
    "   1. Decompositions\n",
    "      * Rotation and Whitening\n",
    "      * Dimensionality Reduction\n",
    "      * Visualization\n",
    "   1. Quantization and Binarization\n",
    "   1. One-Hot Encoding\n",
    "   1. Polynomial Features\n",
    "      * Generating Synthetic Features\n",
    "      * Feature Selection\n",
    "   1. Exercises\n",
    "      * This\n",
    "      * That\n",
    "   1. Denouement"
   ]
  },
  {
   "cell_type": "markdown",
   "metadata": {},
   "source": [
    "8. [Using Machine Learning to Clean Data](Using_Machine_Learning_to_Clean_Data.ipynb)\n",
    "   1. A Good/Bad Binary Classifier as Filter \n",
    "   1. Cleaning Techniques as Hyperparameters \n",
    "   1. Denouement"
   ]
  },
  {
   "cell_type": "markdown",
   "metadata": {},
   "source": [
    "9. [Appendices](Appendices.ipynb)\n",
    "    1. Libraries mentioned\n",
    "    1. On IEEE-754 rounding\n",
    "    "
   ]
  },
  {
   "cell_type": "code",
   "execution_count": null,
   "metadata": {},
   "outputs": [],
   "source": []
  }
 ],
 "metadata": {
  "kernelspec": {
   "display_name": "Python 3",
   "language": "python",
   "name": "python3"
  },
  "language_info": {
   "codemirror_mode": {
    "name": "ipython",
    "version": 3
   },
   "file_extension": ".py",
   "mimetype": "text/x-python",
   "name": "python",
   "nbconvert_exporter": "python",
   "pygments_lexer": "ipython3",
   "version": "3.8.2"
  }
 },
 "nbformat": 4,
 "nbformat_minor": 4
}
